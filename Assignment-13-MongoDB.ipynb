{
 "cells": [
  {
   "cell_type": "code",
   "execution_count": null,
   "id": "30bd11a9",
   "metadata": {},
   "outputs": [],
   "source": [
    "#Q1. What is MongoDB? Explain non-relational databases in short. In which scenarios it is preferred to use\n",
    "#.   MongoDB over SQL databases?\n",
    "\n",
    "#A. MongoDB is a document database with the scalability and flexibility that you want with the querying and indexing that you need.\n",
    "\n",
    "#. A non-relational database is a database that does not use the tabular schema of rows and columns found in most traditional database systems. \n",
    "#. Instead, non-relational databases use a storage model that is optimized for the specific requirements of the type of data being stored.\n",
    "\n",
    "#. In comparison to the SQL server, MongoDB is faster and more scalable. \n",
    "#. While the SQL server supports JOIN and Global transactions, MongoDB does not. \n",
    "#. The MS SQL server does not accommodate large amounts of data, however MongoDB does.\n",
    "\n"
   ]
  },
  {
   "cell_type": "code",
   "execution_count": null,
   "id": "e76e096e",
   "metadata": {},
   "outputs": [],
   "source": [
    "#Q2. State and Explain the features of MongoDB.\n",
    "\n",
    "#A. Features of MongoDB\n",
    "\n",
    "#Schema-less Database: It is the great feature provided by the MongoDB.\n",
    "\n",
    "#Document Oriented: In MongoDB, all the data stored in the documents instead of tables like in RDBMS.\n",
    "\n",
    "#Indexing: In MongoDB database, every field in the documents is indexed with primary and secondary indices.\n",
    "\n",
    "#Scalability: MongoDB provides horizontal scalability with the help of sharding.\n",
    "\n",
    "#Replication: MongoDB provides high availability and redundancy with the help of replication.\n",
    "\n",
    "#Aggregation: It allows to perform operations on the grouped data and get a single result or computed result.\n",
    "\n",
    "#High Performance: The performance of MongoDB is very high and data persistence as compared to another database due to its features like scalability, indexing, replication, etc.\n",
    "\n"
   ]
  },
  {
   "cell_type": "code",
   "execution_count": null,
   "id": "81195183",
   "metadata": {},
   "outputs": [],
   "source": [
    "#Q3. Write a code to connect MongoDB to Python. Also, create a database and a collection in MongoDB.\n",
    "\n",
    "#A. \n",
    "\n",
    "\n",
    "from pymongo import MongoClient\n",
    "\n",
    "client = MongoClient('localhost', 27017)\n",
    "\n",
    "db = client['mydb']\n",
    "print(\"Database created........\")\n",
    "\n",
    "print(\"List of databases after creating new one\")\n",
    "print(client.list_database_names())\n"
   ]
  },
  {
   "cell_type": "code",
   "execution_count": null,
   "id": "155c0423",
   "metadata": {},
   "outputs": [],
   "source": [
    "#Q4. Using the database and the collection created in question number 3, write a code to insert one record,\n",
    "#.   and insert many records. Use the find() and find_one() methods to print the inserted record.\n",
    "\n",
    "#Getting the database instance\n",
    "db = client['myDB']\n",
    "\n",
    "#Creating a collection\n",
    "coll = db['example']\n",
    "\n",
    "#Inserting document into a collection\n",
    "data = [\n",
    "   {\"_id\": \"101\", \"name\": \"Ram\", \"age\": \"26\", \"city\": \"Hyderabad\"},\n",
    "   {\"_id\": \"102\", \"name\": \"Rahim\", \"age\": \"27\", \"city\": \"Bangalore\"},\n",
    "   {\"_id\": \"103\", \"name\": \"Robert\", \"age\": \"28\", \"city\": \"Mumbai\"}\n",
    "]\n",
    "res = coll.insert_many(data)\n",
    "print(\"Data inserted ......\")\n",
    "\n",
    "#Retrieving all the records using the find() method\n",
    "print(\"Records of the collection: \")\n",
    "for doc1 in coll.find():\n",
    "print(doc1)\n",
    "\n",
    "#Retrieving records with age greater than 26 using the find() method\n",
    "print(\"Record whose age is more than 26: \")\n",
    "for doc2 in coll.find({\"age\":{\"$gt\":\"26\"}}):\n",
    "print(doc2)\n"
   ]
  },
  {
   "cell_type": "code",
   "execution_count": null,
   "id": "0a642d68",
   "metadata": {},
   "outputs": [],
   "source": [
    "from pymongo import MongoClient\n",
    "\n",
    "#Creating a pymongo client\n",
    "client = MongoClient('localhost', 27017)\n",
    "\n",
    "#Getting the database instance\n",
    "db = client['mydatabase']\n",
    "\n",
    "#Creating a collection\n",
    "coll = db['example']\n",
    "\n",
    "#Inserting document into a collection\n",
    "data = [\n",
    "   {\"_id\": \"101\", \"name\": \"Ram\", \"age\": \"26\", \"city\": \"Hyderabad\"},\n",
    "   {\"_id\": \"102\", \"name\": \"Rahim\", \"age\": \"27\", \"city\": \"Bangalore\"},\n",
    "   {\"_id\": \"103\", \"name\": \"Robert\", \"age\": \"28\", \"city\": \"Mumbai\"}\n",
    "]\n",
    "res = coll.insert_many(data)\n",
    "print(\"Data inserted ......\")\n",
    "print(res.inserted_ids)\n",
    "\n",
    "#Retrieving the first record using the find_one() method\n",
    "print(\"First record of the collection: \")\n",
    "print(coll.find_one())\n",
    "\n",
    "#Retrieving a record with is 103 using the find_one() method\n",
    "print(\"Record whose id is 103: \")\n",
    "print(coll.find_one({\"_id\": \"103\"}))\n"
   ]
  },
  {
   "cell_type": "code",
   "execution_count": null,
   "id": "c0502afc",
   "metadata": {},
   "outputs": [],
   "source": [
    "#Q5. Explain how you can use the find() method to query the MongoDB database. Write a simple code to\n",
    "#.   demonstrate this.\n",
    "\n",
    "#A. In MongoDB, find() method is used to select documents in a collection and return a cursor to the selected documents. \n",
    "#.  Cursor means a pointer that points to a document, when we use find() method it returns a pointer on the selected documents and returns one by one.\n",
    "\n",
    "db.student.find({Course : btech})\n"
   ]
  },
  {
   "cell_type": "code",
   "execution_count": null,
   "id": "0f6e597e",
   "metadata": {},
   "outputs": [],
   "source": [
    "#Q6. Explain the sort() method. Give an example to demonstrate sorting in MongoDB.\n",
    "\n",
    "#A. The sort() method specifies the order in which the query returns the matching documents from the given collection.\n",
    "\n",
    "# Return all the documents in ascending order of the age:\n",
    "db.student.find().sort({age:1})\n",
    "\n",
    "#Return all the documents in descending order of the age:\n",
    "db.student.find().sort({age:-1})\n"
   ]
  },
  {
   "cell_type": "code",
   "execution_count": null,
   "id": "5d58c729",
   "metadata": {},
   "outputs": [],
   "source": [
    "#Q7. Explain why delete_one(), delete_many(), and drop() is used.\n",
    "\n",
    "#A. delete_one(): deletes the first document that matches the filter.\n",
    "\n",
    "#delete_many(): Delete_many() is used when one needs to delete more than one document.\n",
    "\n",
    "#drop(): \n",
    "\n",
    "\n",
    "\n",
    "\n",
    "\n"
   ]
  },
  {
   "cell_type": "code",
   "execution_count": null,
   "id": "de6164bb",
   "metadata": {},
   "outputs": [],
   "source": []
  },
  {
   "cell_type": "code",
   "execution_count": null,
   "id": "34d1c013",
   "metadata": {},
   "outputs": [],
   "source": []
  },
  {
   "cell_type": "code",
   "execution_count": null,
   "id": "54735e28",
   "metadata": {},
   "outputs": [],
   "source": []
  },
  {
   "cell_type": "code",
   "execution_count": null,
   "id": "808afb5d",
   "metadata": {},
   "outputs": [],
   "source": []
  },
  {
   "cell_type": "code",
   "execution_count": null,
   "id": "44d86baa",
   "metadata": {},
   "outputs": [],
   "source": []
  }
 ],
 "metadata": {
  "kernelspec": {
   "display_name": "Python 3 (ipykernel)",
   "language": "python",
   "name": "python3"
  },
  "language_info": {
   "codemirror_mode": {
    "name": "ipython",
    "version": 3
   },
   "file_extension": ".py",
   "mimetype": "text/x-python",
   "name": "python",
   "nbconvert_exporter": "python",
   "pygments_lexer": "ipython3",
   "version": "3.10.9"
  }
 },
 "nbformat": 4,
 "nbformat_minor": 5
}
